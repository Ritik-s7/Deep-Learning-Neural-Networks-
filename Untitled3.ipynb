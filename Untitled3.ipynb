{
 "cells": [
  {
   "cell_type": "code",
   "execution_count": 1,
   "metadata": {},
   "outputs": [],
   "source": [
    "import tensorflow as tf"
   ]
  },
  {
   "cell_type": "code",
   "execution_count": 4,
   "metadata": {},
   "outputs": [
    {
     "name": "stdout",
     "output_type": "stream",
     "text": [
      "2.6.0\n"
     ]
    }
   ],
   "source": [
    "print(tf.__version__)"
   ]
  },
  {
   "cell_type": "code",
   "execution_count": 9,
   "metadata": {},
   "outputs": [],
   "source": [
    "import numpy as np\n",
    "import pandas as pd"
   ]
  },
  {
   "cell_type": "code",
   "execution_count": 8,
   "metadata": {},
   "outputs": [
    {
     "name": "stdout",
     "output_type": "stream",
     "text": [
      "Collecting pandasNote: you may need to restart the kernel to use updated packages.\n",
      "  Downloading pandas-1.3.3-cp39-cp39-win_amd64.whl (10.2 MB)\n",
      "Collecting pytz>=2017.3\n",
      "  Using cached pytz-2021.1-py2.py3-none-any.whl (510 kB)\n",
      "Requirement already satisfied: python-dateutil>=2.7.3 in c:\\users\\lenovo\\anaconda3\\envs\\py3-tf2.0\\lib\\site-packages (from pandas) (2.8.2)\n",
      "Requirement already satisfied: numpy>=1.17.3 in c:\\users\\lenovo\\anaconda3\\envs\\py3-tf2.0\\lib\\site-packages (from pandas) (1.19.5)\n",
      "Requirement already satisfied: six>=1.5 in c:\\users\\lenovo\\anaconda3\\envs\\py3-tf2.0\\lib\\site-packages (from python-dateutil>=2.7.3->pandas) (1.15.0)\n",
      "Installing collected packages: pytz, pandas\n",
      "Successfully installed pandas-1.3.3 pytz-2021.1\n",
      "\n"
     ]
    }
   ],
   "source": [
    "pip install pandas"
   ]
  },
  {
   "cell_type": "code",
   "execution_count": 10,
   "metadata": {},
   "outputs": [],
   "source": [
    "observation = 100\n",
    "xs = np.random.uniform(-10,10,(observation,1))\n",
    "zs = np.random.uniform(-10,10,(observation,1))\n",
    "x = np.column_stack((xs,zs))\n",
    "\n",
    "noise = np.random.uniform(-1,1,(observation,1))\n",
    "\n",
    "target = 3*xs - 5*zs + 6 + noise\n",
    "\n",
    "np.savez('TF_Intro_data', inputs = x, outputs = target)"
   ]
  },
  {
   "cell_type": "code",
   "execution_count": 13,
   "metadata": {},
   "outputs": [],
   "source": [
    "training_data = np.load('TF_Intro_data.npz')\n"
   ]
  },
  {
   "cell_type": "code",
   "execution_count": 17,
   "metadata": {},
   "outputs": [
    {
     "name": "stdout",
     "output_type": "stream",
     "text": [
      "Epoch 1/100\n",
      "4/4 [==============================] - 1s 38ms/step - loss: 254.8498\n",
      "Epoch 2/100\n",
      "4/4 [==============================] - 0s 3ms/step - loss: 31.7423\n",
      "Epoch 3/100\n",
      "4/4 [==============================] - 0s 2ms/step - loss: 24.8768\n",
      "Epoch 4/100\n",
      "4/4 [==============================] - 0s 3ms/step - loss: 23.4438\n",
      "Epoch 5/100\n",
      "4/4 [==============================] - 0s 4ms/step - loss: 19.5371\n",
      "Epoch 6/100\n",
      "4/4 [==============================] - 0s 6ms/step - loss: 15.3895\n",
      "Epoch 7/100\n",
      "4/4 [==============================] - 0s 5ms/step - loss: 13.0800\n",
      "Epoch 8/100\n",
      "4/4 [==============================] - 0s 3ms/step - loss: 11.2076\n",
      "Epoch 9/100\n",
      "4/4 [==============================] - 0s 5ms/step - loss: 9.6410\n",
      "Epoch 10/100\n",
      "4/4 [==============================] - 0s 5ms/step - loss: 8.3398\n",
      "Epoch 11/100\n",
      "4/4 [==============================] - 0s 4ms/step - loss: 7.3411\n",
      "Epoch 12/100\n",
      "4/4 [==============================] - 0s 4ms/step - loss: 6.3155\n",
      "Epoch 13/100\n",
      "4/4 [==============================] - 0s 3ms/step - loss: 5.4914\n",
      "Epoch 14/100\n",
      "4/4 [==============================] - 0s 2ms/step - loss: 4.6420\n",
      "Epoch 15/100\n",
      "4/4 [==============================] - 0s 3ms/step - loss: 3.9569\n",
      "Epoch 16/100\n",
      "4/4 [==============================] - 0s 6ms/step - loss: 3.5497\n",
      "Epoch 17/100\n",
      "4/4 [==============================] - 0s 2ms/step - loss: 2.9761\n",
      "Epoch 18/100\n",
      "4/4 [==============================] - 0s 2ms/step - loss: 2.5545\n",
      "Epoch 19/100\n",
      "4/4 [==============================] - 0s 4ms/step - loss: 2.3795\n",
      "Epoch 20/100\n",
      "4/4 [==============================] - 0s 4ms/step - loss: 2.1874\n",
      "Epoch 21/100\n",
      "4/4 [==============================] - 0s 4ms/step - loss: 1.6790\n",
      "Epoch 22/100\n",
      "4/4 [==============================] - 0s 2ms/step - loss: 2.2567\n",
      "Epoch 23/100\n",
      "4/4 [==============================] - 0s 3ms/step - loss: 1.3220\n",
      "Epoch 24/100\n",
      "4/4 [==============================] - 0s 3ms/step - loss: 1.1811\n",
      "Epoch 25/100\n",
      "4/4 [==============================] - 0s 3ms/step - loss: 0.9896\n",
      "Epoch 26/100\n",
      "4/4 [==============================] - 0s 2ms/step - loss: 0.8801\n",
      "Epoch 27/100\n",
      "4/4 [==============================] - 0s 2ms/step - loss: 0.8962\n",
      "Epoch 28/100\n",
      "4/4 [==============================] - 0s 4ms/step - loss: 0.7204\n",
      "Epoch 29/100\n",
      "4/4 [==============================] - 0s 3ms/step - loss: 0.8028\n",
      "Epoch 30/100\n",
      "4/4 [==============================] - 0s 3ms/step - loss: 0.7072\n",
      "Epoch 31/100\n",
      "4/4 [==============================] - 0s 2ms/step - loss: 0.5764\n",
      "Epoch 32/100\n",
      "4/4 [==============================] - 0s 2ms/step - loss: 0.5620\n",
      "Epoch 33/100\n",
      "4/4 [==============================] - 0s 2ms/step - loss: 0.5366\n",
      "Epoch 34/100\n",
      "4/4 [==============================] - 0s 3ms/step - loss: 0.4555\n",
      "Epoch 35/100\n",
      "4/4 [==============================] - 0s 2ms/step - loss: 0.4695\n",
      "Epoch 36/100\n",
      "4/4 [==============================] - 0s 4ms/step - loss: 0.4614\n",
      "Epoch 37/100\n",
      "4/4 [==============================] - 0s 4ms/step - loss: 0.4467\n",
      "Epoch 38/100\n",
      "4/4 [==============================] - 0s 3ms/step - loss: 0.4404\n",
      "Epoch 39/100\n",
      "4/4 [==============================] - 0s 4ms/step - loss: 0.3694\n",
      "Epoch 40/100\n",
      "4/4 [==============================] - 0s 3ms/step - loss: 0.3886\n",
      "Epoch 41/100\n",
      "4/4 [==============================] - 0s 2ms/step - loss: 0.3698\n",
      "Epoch 42/100\n",
      "4/4 [==============================] - 0s 3ms/step - loss: 0.4096\n",
      "Epoch 43/100\n",
      "4/4 [==============================] - 0s 2ms/step - loss: 0.3563\n",
      "Epoch 44/100\n",
      "4/4 [==============================] - 0s 3ms/step - loss: 0.3337\n",
      "Epoch 45/100\n",
      "4/4 [==============================] - 0s 3ms/step - loss: 0.3699\n",
      "Epoch 46/100\n",
      "4/4 [==============================] - 0s 2ms/step - loss: 0.3475\n",
      "Epoch 47/100\n",
      "4/4 [==============================] - 0s 4ms/step - loss: 0.3429\n",
      "Epoch 48/100\n",
      "4/4 [==============================] - 0s 2ms/step - loss: 0.3423\n",
      "Epoch 49/100\n",
      "4/4 [==============================] - 0s 3ms/step - loss: 0.3280\n",
      "Epoch 50/100\n",
      "4/4 [==============================] - 0s 2ms/step - loss: 0.3599\n",
      "Epoch 51/100\n",
      "4/4 [==============================] - 0s 2ms/step - loss: 0.3257\n",
      "Epoch 52/100\n",
      "4/4 [==============================] - 0s 4ms/step - loss: 0.3224\n",
      "Epoch 53/100\n",
      "4/4 [==============================] - 0s 2ms/step - loss: 0.3224\n",
      "Epoch 54/100\n",
      "4/4 [==============================] - 0s 4ms/step - loss: 0.3773\n",
      "Epoch 55/100\n",
      "4/4 [==============================] - 0s 5ms/step - loss: 0.3686\n",
      "Epoch 56/100\n",
      "4/4 [==============================] - 0s 2ms/step - loss: 0.3313\n",
      "Epoch 57/100\n",
      "4/4 [==============================] - 0s 2ms/step - loss: 0.3256\n",
      "Epoch 58/100\n",
      "4/4 [==============================] - 0s 2ms/step - loss: 0.3579\n",
      "Epoch 59/100\n",
      "4/4 [==============================] - 0s 2ms/step - loss: 0.3257\n",
      "Epoch 60/100\n",
      "4/4 [==============================] - 0s 2ms/step - loss: 0.3410\n",
      "Epoch 61/100\n",
      "4/4 [==============================] - 0s 2ms/step - loss: 0.3479\n",
      "Epoch 62/100\n",
      "4/4 [==============================] - 0s 2ms/step - loss: 0.3896\n",
      "Epoch 63/100\n",
      "4/4 [==============================] - 0s 2ms/step - loss: 0.3219\n",
      "Epoch 64/100\n",
      "4/4 [==============================] - 0s 2ms/step - loss: 0.3515\n",
      "Epoch 65/100\n",
      "4/4 [==============================] - 0s 2ms/step - loss: 0.3542\n",
      "Epoch 66/100\n",
      "4/4 [==============================] - 0s 2ms/step - loss: 0.3388\n",
      "Epoch 67/100\n",
      "4/4 [==============================] - 0s 2ms/step - loss: 0.3304\n",
      "Epoch 68/100\n",
      "4/4 [==============================] - 0s 2ms/step - loss: 0.3230\n",
      "Epoch 69/100\n",
      "4/4 [==============================] - 0s 2ms/step - loss: 0.3089\n",
      "Epoch 70/100\n",
      "4/4 [==============================] - 0s 2ms/step - loss: 0.3279\n",
      "Epoch 71/100\n",
      "4/4 [==============================] - 0s 1ms/step - loss: 0.3054\n",
      "Epoch 72/100\n",
      "4/4 [==============================] - 0s 2ms/step - loss: 0.4087\n",
      "Epoch 73/100\n",
      "4/4 [==============================] - 0s 1ms/step - loss: 0.3418\n",
      "Epoch 74/100\n",
      "4/4 [==============================] - 0s 2ms/step - loss: 0.3122\n",
      "Epoch 75/100\n",
      "4/4 [==============================] - 0s 2ms/step - loss: 0.3305\n",
      "Epoch 76/100\n",
      "4/4 [==============================] - 0s 2ms/step - loss: 0.3298\n",
      "Epoch 77/100\n",
      "4/4 [==============================] - 0s 2ms/step - loss: 0.3301\n",
      "Epoch 78/100\n",
      "4/4 [==============================] - 0s 2ms/step - loss: 0.3423\n",
      "Epoch 79/100\n",
      "4/4 [==============================] - 0s 2ms/step - loss: 0.4212\n",
      "Epoch 80/100\n",
      "4/4 [==============================] - 0s 2ms/step - loss: 0.3601\n",
      "Epoch 81/100\n",
      "4/4 [==============================] - 0s 1ms/step - loss: 0.3148\n",
      "Epoch 82/100\n",
      "4/4 [==============================] - 0s 1ms/step - loss: 0.3502\n",
      "Epoch 83/100\n",
      "4/4 [==============================] - 0s 2ms/step - loss: 0.3045\n",
      "Epoch 84/100\n",
      "4/4 [==============================] - 0s 2ms/step - loss: 0.3042\n",
      "Epoch 85/100\n",
      "4/4 [==============================] - 0s 2ms/step - loss: 0.3040\n",
      "Epoch 86/100\n",
      "4/4 [==============================] - 0s 4ms/step - loss: 0.3139\n",
      "Epoch 87/100\n",
      "4/4 [==============================] - 0s 3ms/step - loss: 0.3276\n",
      "Epoch 88/100\n",
      "4/4 [==============================] - 0s 3ms/step - loss: 0.3223\n",
      "Epoch 89/100\n",
      "4/4 [==============================] - 0s 5ms/step - loss: 0.3476\n",
      "Epoch 90/100\n",
      "4/4 [==============================] - 0s 3ms/step - loss: 0.3621\n",
      "Epoch 91/100\n",
      "4/4 [==============================] - 0s 3ms/step - loss: 0.3333\n",
      "Epoch 92/100\n",
      "4/4 [==============================] - 0s 2ms/step - loss: 0.3240\n",
      "Epoch 93/100\n",
      "4/4 [==============================] - 0s 2ms/step - loss: 0.3217\n",
      "Epoch 94/100\n",
      "4/4 [==============================] - 0s 2ms/step - loss: 0.3162\n",
      "Epoch 95/100\n",
      "4/4 [==============================] - 0s 2ms/step - loss: 0.3109\n",
      "Epoch 96/100\n",
      "4/4 [==============================] - 0s 3ms/step - loss: 0.3671\n",
      "Epoch 97/100\n",
      "4/4 [==============================] - 0s 3ms/step - loss: 0.3051\n",
      "Epoch 98/100\n",
      "4/4 [==============================] - 0s 2ms/step - loss: 0.3368\n",
      "Epoch 99/100\n",
      "4/4 [==============================] - 0s 3ms/step - loss: 0.3179\n",
      "Epoch 100/100\n",
      "4/4 [==============================] - 0s 2ms/step - loss: 0.3028\n"
     ]
    },
    {
     "data": {
      "text/plain": [
       "<keras.callbacks.History at 0x22bf3522d60>"
      ]
     },
     "execution_count": 17,
     "metadata": {},
     "output_type": "execute_result"
    }
   ],
   "source": [
    "input_size = 2\n",
    "output_size=1\n",
    "model = tf.keras.Sequential([\n",
    "    tf.keras.layers.Dense(output_size)\n",
    "])\n",
    "\n",
    "model.compile(optimizer='sgd', loss='mean_squared_error')\n",
    "model.fit(training_data['inputs'], training_data['outputs'], epochs = 100, verbose = 1)\n"
   ]
  },
  {
   "cell_type": "code",
   "execution_count": 18,
   "metadata": {},
   "outputs": [
    {
     "data": {
      "text/plain": [
       "[array([[ 3.0200891],\n",
       "        [-4.990195 ]], dtype=float32),\n",
       " array([5.920838], dtype=float32)]"
      ]
     },
     "execution_count": 18,
     "metadata": {},
     "output_type": "execute_result"
    }
   ],
   "source": [
    "model.layers[0].get_weights()"
   ]
  },
  {
   "cell_type": "code",
   "execution_count": 21,
   "metadata": {},
   "outputs": [
    {
     "data": {
      "text/plain": [
       "array([[ 3.0200891],\n",
       "       [-4.990195 ]], dtype=float32)"
      ]
     },
     "execution_count": 21,
     "metadata": {},
     "output_type": "execute_result"
    }
   ],
   "source": [
    " weights = model.layers[0].get_weights()[0]\n",
    " weights"
   ]
  },
  {
   "cell_type": "code",
   "execution_count": 22,
   "metadata": {},
   "outputs": [
    {
     "data": {
      "text/plain": [
       "array([5.920838], dtype=float32)"
      ]
     },
     "execution_count": 22,
     "metadata": {},
     "output_type": "execute_result"
    }
   ],
   "source": [
    "biases = model.layers[0].get_weights()[1]\n",
    "biases"
   ]
  },
  {
   "cell_type": "code",
   "execution_count": 24,
   "metadata": {},
   "outputs": [
    {
     "data": {
      "text/plain": [
       "array([[ 69.4],\n",
       "       [ 11. ],\n",
       "       [ 23.8],\n",
       "       [ -0.1],\n",
       "       [-12.6],\n",
       "       [-61.5],\n",
       "       [ 46.1],\n",
       "       [-19.6],\n",
       "       [ 39.1],\n",
       "       [ 56.1],\n",
       "       [ 57.5],\n",
       "       [ -6.2],\n",
       "       [ -9.9],\n",
       "       [ 24.3],\n",
       "       [ 15.6],\n",
       "       [ -3. ],\n",
       "       [-13. ],\n",
       "       [ 23.8],\n",
       "       [ 45.4],\n",
       "       [ 24.9],\n",
       "       [ 49.7],\n",
       "       [-15.9],\n",
       "       [ 18.2],\n",
       "       [ 24.1],\n",
       "       [ -1.4],\n",
       "       [ 27.3],\n",
       "       [ 22.3],\n",
       "       [ 14.8],\n",
       "       [-52.4],\n",
       "       [ 26.7],\n",
       "       [ 13.4],\n",
       "       [-15.5],\n",
       "       [ 52.5],\n",
       "       [-44.7],\n",
       "       [ 28.2],\n",
       "       [ 38.8],\n",
       "       [ 16.8],\n",
       "       [ 68.1],\n",
       "       [ 31.8],\n",
       "       [-21.2],\n",
       "       [-18.3],\n",
       "       [-38.6],\n",
       "       [ 53.8],\n",
       "       [-57.4],\n",
       "       [ 20.2],\n",
       "       [ 17.4],\n",
       "       [-10.3],\n",
       "       [ 80.1],\n",
       "       [-32.9],\n",
       "       [-16. ],\n",
       "       [ 48.6],\n",
       "       [ 81.1],\n",
       "       [ 33.9],\n",
       "       [ 20.8],\n",
       "       [ 25.1],\n",
       "       [ 26.1],\n",
       "       [-43.1],\n",
       "       [ 68.4],\n",
       "       [-57. ],\n",
       "       [ 11.1],\n",
       "       [-11.7],\n",
       "       [-49.2],\n",
       "       [-45. ],\n",
       "       [-41. ],\n",
       "       [ 71.1],\n",
       "       [-13.1],\n",
       "       [-19.2],\n",
       "       [-42.2],\n",
       "       [ 39.2],\n",
       "       [ 24.2],\n",
       "       [-21.9],\n",
       "       [ 43.4],\n",
       "       [ 34.8],\n",
       "       [ -6.8],\n",
       "       [-46.4],\n",
       "       [-52.1],\n",
       "       [ 52.3],\n",
       "       [-40.5],\n",
       "       [-19. ],\n",
       "       [ 19.2],\n",
       "       [ -3.8],\n",
       "       [  4.1],\n",
       "       [ 29.6],\n",
       "       [ 52.5],\n",
       "       [ -9.8],\n",
       "       [-12.9],\n",
       "       [-35.3],\n",
       "       [ 47.5],\n",
       "       [ 33.6],\n",
       "       [-19.9],\n",
       "       [ 19.6],\n",
       "       [ 46.7],\n",
       "       [-25.4],\n",
       "       [  5.8],\n",
       "       [-12.7],\n",
       "       [ 34.3],\n",
       "       [ -4.3],\n",
       "       [ 47.6],\n",
       "       [-16.4],\n",
       "       [ 60.1]], dtype=float32)"
      ]
     },
     "execution_count": 24,
     "metadata": {},
     "output_type": "execute_result"
    }
   ],
   "source": [
    "model.predict_on_batch(training_data['inputs']).round(1)"
   ]
  },
  {
   "cell_type": "code",
   "execution_count": null,
   "metadata": {},
   "outputs": [],
   "source": []
  },
  {
   "cell_type": "code",
   "execution_count": 33,
   "metadata": {},
   "outputs": [],
   "source": [
    "abs_deltas = abs(training_data['outputs'].round(1) - model.predict_on_batch(training_data['inputs']).round(1)).round(1)"
   ]
  },
  {
   "cell_type": "code",
   "execution_count": 35,
   "metadata": {},
   "outputs": [
    {
     "data": {
      "text/plain": [
       "0.4640000000000001"
      ]
     },
     "execution_count": 35,
     "metadata": {},
     "output_type": "execute_result"
    }
   ],
   "source": [
    "np.sum(abs_deltas)/100"
   ]
  },
  {
   "cell_type": "code",
   "execution_count": 38,
   "metadata": {},
   "outputs": [],
   "source": [
    "import matplotlib.pyplot as plt"
   ]
  },
  {
   "cell_type": "code",
   "execution_count": 39,
   "metadata": {},
   "outputs": [
    {
     "data": {
      "image/png": "[encoded data removed]",
      "text/plain": [
       "<Figure size 432x288 with 1 Axes>"
      ]
     },
     "metadata": {
      "needs_background": "light"
     },
     "output_type": "display_data"
    }
   ],
   "source": [
    "plt.plot(training_data['outputs'].round(1),model.predict_on_batch(training_data['inputs']).round(1))\n",
    "plt.xlabel('target')\n",
    "plt.ylabel('prediction')\n",
    "plt.show()"
   ]
  },
  {
   "cell_type": "code",
   "execution_count": null,
   "metadata": {},
   "outputs": [],
   "source": []
  }
 ],
 "metadata": {
  "kernelspec": {
   "display_name": "Python py3-TF2.0",
   "language": "python",
   "name": "py3-tf2.0"
  },
  "language_info": {
   "codemirror_mode": {
    "name": "ipython",
    "version": 3
   },
   "file_extension": ".py",
   "mimetype": "text/x-python",
   "name": "python",
   "nbconvert_exporter": "python",
   "pygments_lexer": "ipython3",
   "version": "3.9.7"
  }
 },
 "nbformat": 4,
 "nbformat_minor": 4
}
